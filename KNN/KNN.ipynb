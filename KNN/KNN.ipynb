{
 "cells": [
  {
   "cell_type": "code",
   "execution_count": 36,
   "id": "2cb225ee",
   "metadata": {},
   "outputs": [],
   "source": [
    "from sklearn import datasets\n",
    "from sklearn.neighbors import KNeighborsClassifier\n",
    "from sklearn.model_selection import train_test_split\n",
    "\n",
    "from sklearn import metrics"
   ]
  },
  {
   "cell_type": "code",
   "execution_count": 37,
   "id": "15f2096c",
   "metadata": {},
   "outputs": [],
   "source": [
    "dataset=datasets.load_breast_cancer()"
   ]
  },
  {
   "cell_type": "code",
   "execution_count": null,
   "id": "2d6a9bc0",
   "metadata": {},
   "outputs": [],
   "source": []
  },
  {
   "cell_type": "code",
   "execution_count": 40,
   "id": "f8828312",
   "metadata": {},
   "outputs": [
    {
     "data": {
      "text/plain": [
       "0.9385964912280702"
      ]
     },
     "execution_count": 40,
     "metadata": {},
     "output_type": "execute_result"
    }
   ],
   "source": [
    "clf=KNeighborsClassifier()\n",
    "x_train,x_test,y_train,y_test=train_test_split(dataset.data,dataset.target,test_size=0.2,random_state=0)\n",
    "clf.fit(x_train,y_train)\n",
    "y_pred=clf.predict(x_test)\n",
    "metrics.accuracy_score(y_test,y_pred)"
   ]
  },
  {
   "cell_type": "code",
   "execution_count": 41,
   "id": "4467ae39",
   "metadata": {},
   "outputs": [
    {
     "name": "stdout",
     "output_type": "stream",
     "text": [
      "1 0.9208791208791209\n",
      "3 0.9318681318681319\n",
      "5 0.9208791208791209\n",
      "7 0.9274725274725275\n",
      "9 0.9362637362637363\n",
      "11 0.9318681318681319\n",
      "13 0.9362637362637363\n",
      "15 0.9230769230769231\n",
      "17 0.9230769230769231\n",
      "19 0.9208791208791209\n",
      "21 0.9186813186813186\n",
      "23 0.9142857142857143\n",
      "25 0.9142857142857143\n",
      "27 0.9142857142857143\n",
      "29 0.9120879120879121\n"
     ]
    },
    {
     "data": {
      "image/png": "[encoded data removed]",
      "text/plain": [
       "<Figure size 432x288 with 1 Axes>"
      ]
     },
     "metadata": {
      "needs_background": "light"
     },
     "output_type": "display_data"
    }
   ],
   "source": [
    "# searching for best value of k\n",
    "import matplotlib.pyplot as plt\n",
    "y=[]\n",
    "x=[]\n",
    "from sklearn.model_selection import cross_val_score\n",
    "for i in range (1,30,2):\n",
    "    clf=KNeighborsClassifier(n_neighbors=i)\n",
    "    score=cross_val_score(clf,x_train,y_train)\n",
    "    x.append(i)\n",
    "    y.append(score.mean())\n",
    "    print(i,score.mean())\n",
    "plt.plot(x,y)\n",
    "plt.show()"
   ]
  },
  {
   "cell_type": "code",
   "execution_count": 54,
   "id": "2c88963d",
   "metadata": {},
   "outputs": [
    {
     "data": {
      "text/plain": [
       "0.5877192982456141"
      ]
     },
     "execution_count": 54,
     "metadata": {},
     "output_type": "execute_result"
    }
   ],
   "source": [
    "# best k is 9\n",
    "\n",
    "# implement knn from scretch\n",
    "\n",
    "from collections import Counter\n",
    "\n",
    "def predict_one(x_train,y_train,x_test,k):\n",
    "    distances=[]\n",
    "    dis=0\n",
    "    for i in range(len(x_train)):\n",
    "        dis= ((x_train[i:]-x_test)**2).sum()\n",
    "        distances.append([dis,i])\n",
    "    distances=sorted(distances)\n",
    "    target=[]\n",
    "    for i in range(k):\n",
    "        index_of_train_data=distances[i][1]\n",
    "        target.append(y_train[index_of_train_data])\n",
    "    return Counter(target).most_common(1)[0][0]\n",
    "        \n",
    "        \n",
    "        \n",
    "        \n",
    "def predict(x_train,y_train,x_test_data,k):\n",
    "    predictions=[]\n",
    "    for x_test in x_test_data:\n",
    "        predictions.append(predict_one(x_train,y_train,x_test,k))\n",
    "    return predictions\n",
    "\n",
    "y_pred2=predict(x_train,y_train,x_test,9)\n",
    "metrics.accuracy_score(y_test,y_pred2)"
   ]
  },
  {
   "cell_type": "code",
   "execution_count": null,
   "id": "80769acd",
   "metadata": {},
   "outputs": [],
   "source": []
  }
 ],
 "metadata": {
  "kernelspec": {
   "display_name": "Python 3",
   "language": "python",
   "name": "python3"
  },
  "language_info": {
   "codemirror_mode": {
    "name": "ipython",
    "version": 3
   },
   "file_extension": ".py",
   "mimetype": "text/x-python",
   "name": "python",
   "nbconvert_exporter": "python",
   "pygments_lexer": "ipython3",
   "version": "3.8.8"
  }
 },
 "nbformat": 4,
 "nbformat_minor": 5
}
