{
 "cells": [
  {
   "cell_type": "code",
   "execution_count": 1,
   "id": "59701c6a",
   "metadata": {},
   "outputs": [],
   "source": [
    "import numpy as np\n",
    "import pandas as pd\n",
    "import matplotlib.pyplot as plt\n",
    "import seaborn as sns\n"
   ]
  },
  {
   "cell_type": "code",
   "execution_count": 2,
   "id": "03df384c",
   "metadata": {},
   "outputs": [],
   "source": [
    "data=pd.read_csv('carEvaluation.csv',header=None)"
   ]
  },
  {
   "cell_type": "code",
   "execution_count": 3,
   "id": "eaf56fc2",
   "metadata": {},
   "outputs": [
    {
     "data": {
      "text/plain": [
       "(1731, 7)"
      ]
     },
     "execution_count": 3,
     "metadata": {},
     "output_type": "execute_result"
    }
   ],
   "source": [
    "data.shape"
   ]
  },
  {
   "cell_type": "code",
   "execution_count": 4,
   "id": "03079f24",
   "metadata": {},
   "outputs": [
    {
     "data": {
      "text/html": [
       "<div>\n",
       "<style scoped>\n",
       "    .dataframe tbody tr th:only-of-type {\n",
       "        vertical-align: middle;\n",
       "    }\n",
       "\n",
       "    .dataframe tbody tr th {\n",
       "        vertical-align: top;\n",
       "    }\n",
       "\n",
       "    .dataframe thead th {\n",
       "        text-align: right;\n",
       "    }\n",
       "</style>\n",
       "<table border=\"1\" class=\"dataframe\">\n",
       "  <thead>\n",
       "    <tr style=\"text-align: right;\">\n",
       "      <th></th>\n",
       "      <th>0</th>\n",
       "      <th>1</th>\n",
       "      <th>2</th>\n",
       "      <th>3</th>\n",
       "      <th>4</th>\n",
       "      <th>5</th>\n",
       "      <th>6</th>\n",
       "    </tr>\n",
       "  </thead>\n",
       "  <tbody>\n",
       "    <tr>\n",
       "      <th>0</th>\n",
       "      <td>buying</td>\n",
       "      <td>maint</td>\n",
       "      <td>persons</td>\n",
       "      <td>lug_boot</td>\n",
       "      <td>doors</td>\n",
       "      <td>safety</td>\n",
       "      <td>car</td>\n",
       "    </tr>\n",
       "    <tr>\n",
       "      <th>1</th>\n",
       "      <td>discrete</td>\n",
       "      <td>discrete</td>\n",
       "      <td>discrete</td>\n",
       "      <td>discrete</td>\n",
       "      <td>discrete</td>\n",
       "      <td>discrete</td>\n",
       "      <td>discrete</td>\n",
       "    </tr>\n",
       "    <tr>\n",
       "      <th>2</th>\n",
       "      <td>NaN</td>\n",
       "      <td>NaN</td>\n",
       "      <td>NaN</td>\n",
       "      <td>NaN</td>\n",
       "      <td>NaN</td>\n",
       "      <td>NaN</td>\n",
       "      <td>class</td>\n",
       "    </tr>\n",
       "    <tr>\n",
       "      <th>3</th>\n",
       "      <td>vhigh</td>\n",
       "      <td>vhigh</td>\n",
       "      <td>2</td>\n",
       "      <td>small</td>\n",
       "      <td>2</td>\n",
       "      <td>low</td>\n",
       "      <td>unacc</td>\n",
       "    </tr>\n",
       "    <tr>\n",
       "      <th>4</th>\n",
       "      <td>vhigh</td>\n",
       "      <td>vhigh</td>\n",
       "      <td>2</td>\n",
       "      <td>small</td>\n",
       "      <td>2</td>\n",
       "      <td>med</td>\n",
       "      <td>unacc</td>\n",
       "    </tr>\n",
       "  </tbody>\n",
       "</table>\n",
       "</div>"
      ],
      "text/plain": [
       "          0         1         2         3         4         5         6\n",
       "0    buying     maint   persons  lug_boot     doors    safety       car\n",
       "1  discrete  discrete  discrete  discrete  discrete  discrete  discrete\n",
       "2       NaN       NaN       NaN       NaN       NaN       NaN     class\n",
       "3     vhigh     vhigh         2     small         2       low     unacc\n",
       "4     vhigh     vhigh         2     small         2       med     unacc"
      ]
     },
     "execution_count": 4,
     "metadata": {},
     "output_type": "execute_result"
    }
   ],
   "source": [
    "data.head()"
   ]
  },
  {
   "cell_type": "code",
   "execution_count": 5,
   "id": "75643eec",
   "metadata": {},
   "outputs": [
    {
     "data": {
      "text/plain": [
       "['buying', 'maint', 'doors', 'persons', 'lug_boot', 'safety', 'class']"
      ]
     },
     "execution_count": 5,
     "metadata": {},
     "output_type": "execute_result"
    }
   ],
   "source": [
    "col_names= ['buying', 'maint', 'doors', 'persons', 'lug_boot', 'safety', 'class']\n",
    "data.columns=col_names\n",
    "col_names"
   ]
  },
  {
   "cell_type": "code",
   "execution_count": 6,
   "id": "a38c4ba1",
   "metadata": {},
   "outputs": [
    {
     "data": {
      "text/html": [
       "<div>\n",
       "<style scoped>\n",
       "    .dataframe tbody tr th:only-of-type {\n",
       "        vertical-align: middle;\n",
       "    }\n",
       "\n",
       "    .dataframe tbody tr th {\n",
       "        vertical-align: top;\n",
       "    }\n",
       "\n",
       "    .dataframe thead th {\n",
       "        text-align: right;\n",
       "    }\n",
       "</style>\n",
       "<table border=\"1\" class=\"dataframe\">\n",
       "  <thead>\n",
       "    <tr style=\"text-align: right;\">\n",
       "      <th></th>\n",
       "      <th>buying</th>\n",
       "      <th>maint</th>\n",
       "      <th>doors</th>\n",
       "      <th>persons</th>\n",
       "      <th>lug_boot</th>\n",
       "      <th>safety</th>\n",
       "      <th>class</th>\n",
       "    </tr>\n",
       "  </thead>\n",
       "  <tbody>\n",
       "    <tr>\n",
       "      <th>0</th>\n",
       "      <td>buying</td>\n",
       "      <td>maint</td>\n",
       "      <td>persons</td>\n",
       "      <td>lug_boot</td>\n",
       "      <td>doors</td>\n",
       "      <td>safety</td>\n",
       "      <td>car</td>\n",
       "    </tr>\n",
       "    <tr>\n",
       "      <th>1</th>\n",
       "      <td>discrete</td>\n",
       "      <td>discrete</td>\n",
       "      <td>discrete</td>\n",
       "      <td>discrete</td>\n",
       "      <td>discrete</td>\n",
       "      <td>discrete</td>\n",
       "      <td>discrete</td>\n",
       "    </tr>\n",
       "    <tr>\n",
       "      <th>2</th>\n",
       "      <td>NaN</td>\n",
       "      <td>NaN</td>\n",
       "      <td>NaN</td>\n",
       "      <td>NaN</td>\n",
       "      <td>NaN</td>\n",
       "      <td>NaN</td>\n",
       "      <td>class</td>\n",
       "    </tr>\n",
       "    <tr>\n",
       "      <th>3</th>\n",
       "      <td>vhigh</td>\n",
       "      <td>vhigh</td>\n",
       "      <td>2</td>\n",
       "      <td>small</td>\n",
       "      <td>2</td>\n",
       "      <td>low</td>\n",
       "      <td>unacc</td>\n",
       "    </tr>\n",
       "    <tr>\n",
       "      <th>4</th>\n",
       "      <td>vhigh</td>\n",
       "      <td>vhigh</td>\n",
       "      <td>2</td>\n",
       "      <td>small</td>\n",
       "      <td>2</td>\n",
       "      <td>med</td>\n",
       "      <td>unacc</td>\n",
       "    </tr>\n",
       "  </tbody>\n",
       "</table>\n",
       "</div>"
      ],
      "text/plain": [
       "     buying     maint     doors   persons  lug_boot    safety     class\n",
       "0    buying     maint   persons  lug_boot     doors    safety       car\n",
       "1  discrete  discrete  discrete  discrete  discrete  discrete  discrete\n",
       "2       NaN       NaN       NaN       NaN       NaN       NaN     class\n",
       "3     vhigh     vhigh         2     small         2       low     unacc\n",
       "4     vhigh     vhigh         2     small         2       med     unacc"
      ]
     },
     "execution_count": 6,
     "metadata": {},
     "output_type": "execute_result"
    }
   ],
   "source": [
    "data.head()"
   ]
  },
  {
   "cell_type": "code",
   "execution_count": 7,
   "id": "4d1d8501",
   "metadata": {},
   "outputs": [
    {
     "name": "stdout",
     "output_type": "stream",
     "text": [
      "<class 'pandas.core.frame.DataFrame'>\n",
      "RangeIndex: 1731 entries, 0 to 1730\n",
      "Data columns (total 7 columns):\n",
      " #   Column    Non-Null Count  Dtype \n",
      "---  ------    --------------  ----- \n",
      " 0   buying    1730 non-null   object\n",
      " 1   maint     1730 non-null   object\n",
      " 2   doors     1730 non-null   object\n",
      " 3   persons   1730 non-null   object\n",
      " 4   lug_boot  1730 non-null   object\n",
      " 5   safety    1730 non-null   object\n",
      " 6   class     1731 non-null   object\n",
      "dtypes: object(7)\n",
      "memory usage: 94.8+ KB\n"
     ]
    }
   ],
   "source": [
    "data.info()"
   ]
  },
  {
   "cell_type": "code",
   "execution_count": 8,
   "id": "d67c59d6",
   "metadata": {},
   "outputs": [
    {
     "name": "stdout",
     "output_type": "stream",
     "text": [
      "vhigh       432\n",
      "high        432\n",
      "low         432\n",
      "med         432\n",
      "discrete      1\n",
      "buying        1\n",
      "Name: buying, dtype: int64\n",
      "vhigh       432\n",
      "high        432\n",
      "low         432\n",
      "med         432\n",
      "discrete      1\n",
      "maint         1\n",
      "Name: maint, dtype: int64\n",
      "4           576\n",
      "more        576\n",
      "2           576\n",
      "discrete      1\n",
      "persons       1\n",
      "Name: doors, dtype: int64\n",
      "small       576\n",
      "med         576\n",
      "big         576\n",
      "discrete      1\n",
      "lug_boot      1\n",
      "Name: persons, dtype: int64\n",
      "5more       432\n",
      "3           432\n",
      "4           432\n",
      "2           432\n",
      "discrete      1\n",
      "doors         1\n",
      "Name: lug_boot, dtype: int64\n",
      "high        576\n",
      "low         576\n",
      "med         576\n",
      "safety        1\n",
      "discrete      1\n",
      "Name: safety, dtype: int64\n",
      "unacc       1210\n",
      "acc          384\n",
      "good          69\n",
      "vgood         65\n",
      "discrete       1\n",
      "class          1\n",
      "car            1\n",
      "Name: class, dtype: int64\n"
     ]
    }
   ],
   "source": [
    "col_names = ['buying', 'maint', 'doors', 'persons', 'lug_boot', 'safety', 'class']\n",
    "for col in col_names:\n",
    "    print(data[col].value_counts())"
   ]
  },
  {
   "cell_type": "code",
   "execution_count": 9,
   "id": "01d4a78c",
   "metadata": {},
   "outputs": [
    {
     "data": {
      "text/plain": [
       "unacc       1210\n",
       "acc          384\n",
       "good          69\n",
       "vgood         65\n",
       "discrete       1\n",
       "class          1\n",
       "car            1\n",
       "Name: class, dtype: int64"
      ]
     },
     "execution_count": 9,
     "metadata": {},
     "output_type": "execute_result"
    }
   ],
   "source": [
    "data['class'].value_counts()"
   ]
  },
  {
   "cell_type": "code",
   "execution_count": 10,
   "id": "7267bcb6",
   "metadata": {},
   "outputs": [
    {
     "data": {
      "text/plain": [
       "buying      1\n",
       "maint       1\n",
       "doors       1\n",
       "persons     1\n",
       "lug_boot    1\n",
       "safety      1\n",
       "class       0\n",
       "dtype: int64"
      ]
     },
     "execution_count": 10,
     "metadata": {},
     "output_type": "execute_result"
    }
   ],
   "source": [
    "data.isnull().sum()"
   ]
  },
  {
   "cell_type": "code",
   "execution_count": 11,
   "id": "a679eea9",
   "metadata": {},
   "outputs": [],
   "source": [
    "data.dropna(subset=[\"buying\"],inplace=True)"
   ]
  },
  {
   "cell_type": "code",
   "execution_count": 12,
   "id": "3c025c7d",
   "metadata": {},
   "outputs": [
    {
     "data": {
      "text/plain": [
       "buying      0\n",
       "maint       0\n",
       "doors       0\n",
       "persons     0\n",
       "lug_boot    0\n",
       "safety      0\n",
       "class       0\n",
       "dtype: int64"
      ]
     },
     "execution_count": 12,
     "metadata": {},
     "output_type": "execute_result"
    }
   ],
   "source": [
    "data.isnull().sum()"
   ]
  },
  {
   "cell_type": "code",
   "execution_count": 13,
   "id": "207a4582",
   "metadata": {},
   "outputs": [],
   "source": [
    "x=data.drop(['class'],axis=1)\n",
    "y=data['class']"
   ]
  },
  {
   "cell_type": "code",
   "execution_count": 14,
   "id": "96a1db95",
   "metadata": {},
   "outputs": [],
   "source": [
    "from sklearn.model_selection import train_test_split\n",
    "x_train,x_test,y_train,y_test=train_test_split(x,y,test_size=0.33,random_state=42)"
   ]
  },
  {
   "cell_type": "code",
   "execution_count": 15,
   "id": "cf20bc09",
   "metadata": {},
   "outputs": [
    {
     "data": {
      "text/plain": [
       "((1159, 6), (571, 6))"
      ]
     },
     "execution_count": 15,
     "metadata": {},
     "output_type": "execute_result"
    }
   ],
   "source": [
    "x_train.shape,x_test.shape"
   ]
  },
  {
   "cell_type": "code",
   "execution_count": 16,
   "id": "91ce2852",
   "metadata": {},
   "outputs": [
    {
     "data": {
      "text/plain": [
       "buying      object\n",
       "maint       object\n",
       "doors       object\n",
       "persons     object\n",
       "lug_boot    object\n",
       "safety      object\n",
       "dtype: object"
      ]
     },
     "execution_count": 16,
     "metadata": {},
     "output_type": "execute_result"
    }
   ],
   "source": [
    "x_train.dtypes"
   ]
  },
  {
   "cell_type": "code",
   "execution_count": 17,
   "id": "bb111030",
   "metadata": {},
   "outputs": [
    {
     "data": {
      "text/html": [
       "<div>\n",
       "<style scoped>\n",
       "    .dataframe tbody tr th:only-of-type {\n",
       "        vertical-align: middle;\n",
       "    }\n",
       "\n",
       "    .dataframe tbody tr th {\n",
       "        vertical-align: top;\n",
       "    }\n",
       "\n",
       "    .dataframe thead th {\n",
       "        text-align: right;\n",
       "    }\n",
       "</style>\n",
       "<table border=\"1\" class=\"dataframe\">\n",
       "  <thead>\n",
       "    <tr style=\"text-align: right;\">\n",
       "      <th></th>\n",
       "      <th>buying</th>\n",
       "      <th>maint</th>\n",
       "      <th>doors</th>\n",
       "      <th>persons</th>\n",
       "      <th>lug_boot</th>\n",
       "      <th>safety</th>\n",
       "    </tr>\n",
       "  </thead>\n",
       "  <tbody>\n",
       "    <tr>\n",
       "      <th>49</th>\n",
       "      <td>vhigh</td>\n",
       "      <td>vhigh</td>\n",
       "      <td>more</td>\n",
       "      <td>small</td>\n",
       "      <td>3</td>\n",
       "      <td>med</td>\n",
       "    </tr>\n",
       "    <tr>\n",
       "      <th>469</th>\n",
       "      <td>high</td>\n",
       "      <td>vhigh</td>\n",
       "      <td>2</td>\n",
       "      <td>big</td>\n",
       "      <td>3</td>\n",
       "      <td>med</td>\n",
       "    </tr>\n",
       "    <tr>\n",
       "      <th>156</th>\n",
       "      <td>vhigh</td>\n",
       "      <td>high</td>\n",
       "      <td>more</td>\n",
       "      <td>small</td>\n",
       "      <td>3</td>\n",
       "      <td>low</td>\n",
       "    </tr>\n",
       "    <tr>\n",
       "      <th>1724</th>\n",
       "      <td>low</td>\n",
       "      <td>low</td>\n",
       "      <td>more</td>\n",
       "      <td>small</td>\n",
       "      <td>5more</td>\n",
       "      <td>high</td>\n",
       "    </tr>\n",
       "    <tr>\n",
       "      <th>1209</th>\n",
       "      <td>med</td>\n",
       "      <td>low</td>\n",
       "      <td>more</td>\n",
       "      <td>small</td>\n",
       "      <td>2</td>\n",
       "      <td>low</td>\n",
       "    </tr>\n",
       "  </tbody>\n",
       "</table>\n",
       "</div>"
      ],
      "text/plain": [
       "     buying  maint doors persons lug_boot safety\n",
       "49    vhigh  vhigh  more   small        3    med\n",
       "469    high  vhigh     2     big        3    med\n",
       "156   vhigh   high  more   small        3    low\n",
       "1724    low    low  more   small    5more   high\n",
       "1209    med    low  more   small        2    low"
      ]
     },
     "execution_count": 17,
     "metadata": {},
     "output_type": "execute_result"
    }
   ],
   "source": [
    "x_train.head()"
   ]
  },
  {
   "cell_type": "code",
   "execution_count": 18,
   "id": "3e453f6a",
   "metadata": {
    "scrolled": true
   },
   "outputs": [],
   "source": [
    "import category_encoders as ce\n",
    "encoder = ce.OrdinalEncoder(cols=['buying', 'maint', 'doors', 'persons', 'lug_boot', 'safety'])"
   ]
  },
  {
   "cell_type": "code",
   "execution_count": 19,
   "id": "2a5ac1eb",
   "metadata": {},
   "outputs": [],
   "source": [
    "X_train=encoder.fit_transform(x_train)\n",
    "X_test=encoder.fit_transform(x_test)"
   ]
  },
  {
   "cell_type": "code",
   "execution_count": 20,
   "id": "68f15ebb",
   "metadata": {},
   "outputs": [
    {
     "data": {
      "text/html": [
       "<div>\n",
       "<style scoped>\n",
       "    .dataframe tbody tr th:only-of-type {\n",
       "        vertical-align: middle;\n",
       "    }\n",
       "\n",
       "    .dataframe tbody tr th {\n",
       "        vertical-align: top;\n",
       "    }\n",
       "\n",
       "    .dataframe thead th {\n",
       "        text-align: right;\n",
       "    }\n",
       "</style>\n",
       "<table border=\"1\" class=\"dataframe\">\n",
       "  <thead>\n",
       "    <tr style=\"text-align: right;\">\n",
       "      <th></th>\n",
       "      <th>buying</th>\n",
       "      <th>maint</th>\n",
       "      <th>doors</th>\n",
       "      <th>persons</th>\n",
       "      <th>lug_boot</th>\n",
       "      <th>safety</th>\n",
       "    </tr>\n",
       "  </thead>\n",
       "  <tbody>\n",
       "    <tr>\n",
       "      <th>49</th>\n",
       "      <td>1</td>\n",
       "      <td>1</td>\n",
       "      <td>1</td>\n",
       "      <td>1</td>\n",
       "      <td>1</td>\n",
       "      <td>1</td>\n",
       "    </tr>\n",
       "    <tr>\n",
       "      <th>469</th>\n",
       "      <td>2</td>\n",
       "      <td>1</td>\n",
       "      <td>2</td>\n",
       "      <td>2</td>\n",
       "      <td>1</td>\n",
       "      <td>1</td>\n",
       "    </tr>\n",
       "    <tr>\n",
       "      <th>156</th>\n",
       "      <td>1</td>\n",
       "      <td>2</td>\n",
       "      <td>1</td>\n",
       "      <td>1</td>\n",
       "      <td>1</td>\n",
       "      <td>2</td>\n",
       "    </tr>\n",
       "    <tr>\n",
       "      <th>1724</th>\n",
       "      <td>3</td>\n",
       "      <td>3</td>\n",
       "      <td>1</td>\n",
       "      <td>1</td>\n",
       "      <td>2</td>\n",
       "      <td>3</td>\n",
       "    </tr>\n",
       "    <tr>\n",
       "      <th>1209</th>\n",
       "      <td>4</td>\n",
       "      <td>3</td>\n",
       "      <td>1</td>\n",
       "      <td>1</td>\n",
       "      <td>3</td>\n",
       "      <td>2</td>\n",
       "    </tr>\n",
       "  </tbody>\n",
       "</table>\n",
       "</div>"
      ],
      "text/plain": [
       "      buying  maint  doors  persons  lug_boot  safety\n",
       "49         1      1      1        1         1       1\n",
       "469        2      1      2        2         1       1\n",
       "156        1      2      1        1         1       2\n",
       "1724       3      3      1        1         2       3\n",
       "1209       4      3      1        1         3       2"
      ]
     },
     "execution_count": 20,
     "metadata": {},
     "output_type": "execute_result"
    }
   ],
   "source": [
    "X_train.head()"
   ]
  },
  {
   "cell_type": "code",
   "execution_count": 21,
   "id": "27492660",
   "metadata": {},
   "outputs": [],
   "source": [
    "from sklearn.tree import DecisionTreeClassifier"
   ]
  },
  {
   "cell_type": "code",
   "execution_count": 22,
   "id": "0ae9ae08",
   "metadata": {},
   "outputs": [],
   "source": [
    "clf_gini=DecisionTreeClassifier(criterion='gini',max_depth=3,random_state=0)"
   ]
  },
  {
   "cell_type": "code",
   "execution_count": 23,
   "id": "5577cfbe",
   "metadata": {},
   "outputs": [
    {
     "data": {
      "text/plain": [
       "DecisionTreeClassifier(max_depth=3, random_state=0)"
      ]
     },
     "execution_count": 23,
     "metadata": {},
     "output_type": "execute_result"
    }
   ],
   "source": [
    "clf_gini.fit(X_train,y_train)"
   ]
  },
  {
   "cell_type": "code",
   "execution_count": 24,
   "id": "13b73279",
   "metadata": {},
   "outputs": [],
   "source": [
    "y_pred_gini=clf_gini.predict(X_test)"
   ]
  },
  {
   "cell_type": "code",
   "execution_count": 25,
   "id": "f2f62c64",
   "metadata": {},
   "outputs": [
    {
     "name": "stdout",
     "output_type": "stream",
     "text": [
      "Model accuracy score with criterion gini index: 0.7636\n"
     ]
    }
   ],
   "source": [
    "from sklearn.metrics import accuracy_score\n",
    "print('Model accuracy score with criterion gini index: {0:0.4f}'. format(accuracy_score(y_test, y_pred_gini)))"
   ]
  },
  {
   "cell_type": "code",
   "execution_count": 26,
   "id": "aa309ed1",
   "metadata": {},
   "outputs": [
    {
     "data": {
      "text/plain": [
       "array(['acc', 'unacc', 'unacc', ..., 'unacc', 'acc', 'acc'], dtype=object)"
      ]
     },
     "execution_count": 26,
     "metadata": {},
     "output_type": "execute_result"
    }
   ],
   "source": [
    "y_pred_train_gini=clf_gini.predict(X_train)\n",
    "y_pred_train_gini"
   ]
  },
  {
   "cell_type": "code",
   "execution_count": 27,
   "id": "aa4e04f7",
   "metadata": {},
   "outputs": [
    {
     "name": "stdout",
     "output_type": "stream",
     "text": [
      "Training-set accuracy score with criterion gini index: 0.7783\n"
     ]
    }
   ],
   "source": [
    "print('Training-set accuracy score with criterion gini index: {0:0.4f}'. format(accuracy_score(y_train,y_pred_train_gini)))"
   ]
  },
  {
   "cell_type": "code",
   "execution_count": 28,
   "id": "7f7c2f3d",
   "metadata": {},
   "outputs": [
    {
     "name": "stdout",
     "output_type": "stream",
     "text": [
      "Training set score: 0.7783\n",
      "Test set score: 0.7636\n"
     ]
    }
   ],
   "source": [
    "#chech for overfitting\n",
    "print('Training set score: {:.4f}'.format(clf_gini.score(X_train, y_train)))\n",
    "\n",
    "print('Test set score: {:.4f}'.format(clf_gini.score(X_test, y_test)))\n"
   ]
  },
  {
   "cell_type": "code",
   "execution_count": 29,
   "id": "6bdb668a",
   "metadata": {},
   "outputs": [
    {
     "data": {
      "text/plain": [
       "[Text(306.90000000000003, 380.52, 'X[5] <= 2.5\\ngini = 0.453\\nsamples = 1159\\nvalue = [252, 1, 1, 48, 817, 40]'),\n",
       " Text(167.4, 271.8, 'X[5] <= 1.5\\ngini = 0.304\\nsamples = 776\\nvalue = [113, 0, 0, 26, 637, 0]'),\n",
       " Text(111.60000000000001, 163.07999999999998, 'X[2] <= 1.5\\ngini = 0.5\\nsamples = 387\\nvalue = [113, 0, 0, 26, 248, 0]'),\n",
       " Text(55.800000000000004, 54.360000000000014, 'gini = 0.592\\nsamples = 126\\nvalue = [57, 0, 0, 14, 55, 0]'),\n",
       " Text(167.4, 54.360000000000014, 'gini = 0.405\\nsamples = 261\\nvalue = [56, 0, 0, 12, 193, 0]'),\n",
       " Text(223.20000000000002, 163.07999999999998, 'gini = 0.0\\nsamples = 389\\nvalue = [0, 0, 0, 0, 389, 0]'),\n",
       " Text(446.40000000000003, 271.8, 'X[2] <= 2.5\\ngini = 0.633\\nsamples = 383\\nvalue = [139, 1, 1, 22, 180, 40]'),\n",
       " Text(334.8, 163.07999999999998, 'X[2] <= 1.5\\ngini = 0.526\\nsamples = 248\\nvalue = [61, 0, 0, 9, 158, 20]'),\n",
       " Text(279.0, 54.360000000000014, 'gini = 0.652\\nsamples = 124\\nvalue = [61, 0, 0, 9, 34, 20]'),\n",
       " Text(390.6, 54.360000000000014, 'gini = 0.0\\nsamples = 124\\nvalue = [0, 0, 0, 0, 124, 0]'),\n",
       " Text(558.0, 163.07999999999998, 'X[0] <= 2.5\\ngini = 0.608\\nsamples = 135\\nvalue = [78, 1, 1, 13, 22, 20]'),\n",
       " Text(502.20000000000005, 54.360000000000014, 'gini = 0.448\\nsamples = 65\\nvalue = [43, 0, 0, 0, 22, 0]'),\n",
       " Text(613.8000000000001, 54.360000000000014, 'gini = 0.633\\nsamples = 70\\nvalue = [35, 1, 1, 13, 0, 20]')]"
      ]
     },
     "execution_count": 29,
     "metadata": {},
     "output_type": "execute_result"
    },
    {
     "data": {
      "image/png": "[encoded data removed]",
      "text/plain": [
       "<Figure size 864x576 with 1 Axes>"
      ]
     },
     "metadata": {
      "needs_background": "light"
     },
     "output_type": "display_data"
    }
   ],
   "source": [
    "plt.figure(figsize=(12,8))\n",
    "from sklearn import tree\n",
    "\n",
    "tree.plot_tree(clf_gini.fit(X_train,y_train))"
   ]
  },
  {
   "cell_type": "code",
   "execution_count": 30,
   "id": "cc75d73b",
   "metadata": {
    "scrolled": true
   },
   "outputs": [
    {
     "data": {
      "image/svg+xml": [
       "<?xml version=\"1.0\" encoding=\"UTF-8\" standalone=\"no\"?>\n",
       "<!DOCTYPE svg PUBLIC \"-//W3C//DTD SVG 1.1//EN\"\n",
       " \"http://www.w3.org/Graphics/SVG/1.1/DTD/svg11.dtd\">\n",
       "<!-- Generated by graphviz version 2.38.0 (20140413.2041)\n",
       " -->\n",
       "<!-- Title: Tree Pages: 1 -->\n",
       "<svg width=\"1222pt\" height=\"433pt\"\n",
       " viewBox=\"0.00 0.00 1222.00 433.00\" xmlns=\"http://www.w3.org/2000/svg\" xmlns:xlink=\"http://www.w3.org/1999/xlink\">\n",
       "<g id=\"graph0\" class=\"graph\" transform=\"scale(1 1) rotate(0) translate(4 429)\">\n",
       "<title>Tree</title>\n",
       "<polygon fill=\"white\" stroke=\"none\" points=\"-4,4 -4,-429 1218,-429 1218,4 -4,4\"/>\n",
       "<!-- 0 -->\n",
       "<g id=\"node1\" class=\"node\"><title>0</title>\n",
       "<path fill=\"#b184ef\" stroke=\"black\" d=\"M701,-425C701,-425 516,-425 516,-425 510,-425 504,-419 504,-413 504,-413 504,-354 504,-354 504,-348 510,-342 516,-342 516,-342 701,-342 701,-342 707,-342 713,-348 713,-354 713,-354 713,-413 713,-413 713,-419 707,-425 701,-425\"/>\n",
       "<text text-anchor=\"start\" x=\"571.5\" y=\"-409.8\" font-family=\"Helvetica,sans-Serif\" font-size=\"14.00\">safety ≤ 2.5</text>\n",
       "<text text-anchor=\"start\" x=\"571\" y=\"-394.8\" font-family=\"Helvetica,sans-Serif\" font-size=\"14.00\">gini = 0.453</text>\n",
       "<text text-anchor=\"start\" x=\"557\" y=\"-379.8\" font-family=\"Helvetica,sans-Serif\" font-size=\"14.00\">samples = 1159</text>\n",
       "<text text-anchor=\"start\" x=\"512\" y=\"-364.8\" font-family=\"Helvetica,sans-Serif\" font-size=\"14.00\">value = [252, 1, 1, 48, 817, 40]</text>\n",
       "<text text-anchor=\"start\" x=\"565\" y=\"-349.8\" font-family=\"Helvetica,sans-Serif\" font-size=\"14.00\">class = unacc</text>\n",
       "</g>\n",
       "<!-- 1 -->\n",
       "<g id=\"node2\" class=\"node\"><title>1</title>\n",
       "<path fill=\"#9b63ea\" stroke=\"black\" d=\"M586,-306C586,-306 409,-306 409,-306 403,-306 397,-300 397,-294 397,-294 397,-235 397,-235 397,-229 403,-223 409,-223 409,-223 586,-223 586,-223 592,-223 598,-229 598,-235 598,-235 598,-294 598,-294 598,-300 592,-306 586,-306\"/>\n",
       "<text text-anchor=\"start\" x=\"460.5\" y=\"-290.8\" font-family=\"Helvetica,sans-Serif\" font-size=\"14.00\">safety ≤ 1.5</text>\n",
       "<text text-anchor=\"start\" x=\"460\" y=\"-275.8\" font-family=\"Helvetica,sans-Serif\" font-size=\"14.00\">gini = 0.304</text>\n",
       "<text text-anchor=\"start\" x=\"450\" y=\"-260.8\" font-family=\"Helvetica,sans-Serif\" font-size=\"14.00\">samples = 776</text>\n",
       "<text text-anchor=\"start\" x=\"405\" y=\"-245.8\" font-family=\"Helvetica,sans-Serif\" font-size=\"14.00\">value = [113, 0, 0, 26, 637, 0]</text>\n",
       "<text text-anchor=\"start\" x=\"454\" y=\"-230.8\" font-family=\"Helvetica,sans-Serif\" font-size=\"14.00\">class = unacc</text>\n",
       "</g>\n",
       "<!-- 0&#45;&gt;1 -->\n",
       "<g id=\"edge1\" class=\"edge\"><title>0&#45;&gt;1</title>\n",
       "<path fill=\"none\" stroke=\"black\" d=\"M569.989,-341.907C561.293,-332.742 551.982,-322.927 543.028,-313.489\"/>\n",
       "<polygon fill=\"black\" stroke=\"black\" points=\"545.365,-310.867 535.943,-306.021 540.286,-315.684 545.365,-310.867\"/>\n",
       "<text text-anchor=\"middle\" x=\"535.285\" y=\"-327.312\" font-family=\"Helvetica,sans-Serif\" font-size=\"14.00\">True</text>\n",
       "</g>\n",
       "<!-- 6 -->\n",
       "<g id=\"node7\" class=\"node\"><title>6</title>\n",
       "<path fill=\"#eadefb\" stroke=\"black\" d=\"M813,-306C813,-306 628,-306 628,-306 622,-306 616,-300 616,-294 616,-294 616,-235 616,-235 616,-229 622,-223 628,-223 628,-223 813,-223 813,-223 819,-223 825,-229 825,-235 825,-235 825,-294 825,-294 825,-300 819,-306 813,-306\"/>\n",
       "<text text-anchor=\"start\" x=\"684\" y=\"-290.8\" font-family=\"Helvetica,sans-Serif\" font-size=\"14.00\">doors ≤ 2.5</text>\n",
       "<text text-anchor=\"start\" x=\"683\" y=\"-275.8\" font-family=\"Helvetica,sans-Serif\" font-size=\"14.00\">gini = 0.633</text>\n",
       "<text text-anchor=\"start\" x=\"673\" y=\"-260.8\" font-family=\"Helvetica,sans-Serif\" font-size=\"14.00\">samples = 383</text>\n",
       "<text text-anchor=\"start\" x=\"624\" y=\"-245.8\" font-family=\"Helvetica,sans-Serif\" font-size=\"14.00\">value = [139, 1, 1, 22, 180, 40]</text>\n",
       "<text text-anchor=\"start\" x=\"677\" y=\"-230.8\" font-family=\"Helvetica,sans-Serif\" font-size=\"14.00\">class = unacc</text>\n",
       "</g>\n",
       "<!-- 0&#45;&gt;6 -->\n",
       "<g id=\"edge6\" class=\"edge\"><title>0&#45;&gt;6</title>\n",
       "<path fill=\"none\" stroke=\"black\" d=\"M647.358,-341.907C656.132,-332.742 665.528,-322.927 674.562,-313.489\"/>\n",
       "<polygon fill=\"black\" stroke=\"black\" points=\"677.324,-315.665 681.711,-306.021 672.267,-310.824 677.324,-315.665\"/>\n",
       "<text text-anchor=\"middle\" x=\"682.257\" y=\"-327.315\" font-family=\"Helvetica,sans-Serif\" font-size=\"14.00\">False</text>\n",
       "</g>\n",
       "<!-- 2 -->\n",
       "<g id=\"node3\" class=\"node\"><title>2</title>\n",
       "<path fill=\"#c19df2\" stroke=\"black\" d=\"M384,-187C384,-187 207,-187 207,-187 201,-187 195,-181 195,-175 195,-175 195,-116 195,-116 195,-110 201,-104 207,-104 207,-104 384,-104 384,-104 390,-104 396,-110 396,-116 396,-116 396,-175 396,-175 396,-181 390,-187 384,-187\"/>\n",
       "<text text-anchor=\"start\" x=\"259\" y=\"-171.8\" font-family=\"Helvetica,sans-Serif\" font-size=\"14.00\">doors ≤ 1.5</text>\n",
       "<text text-anchor=\"start\" x=\"266.5\" y=\"-156.8\" font-family=\"Helvetica,sans-Serif\" font-size=\"14.00\">gini = 0.5</text>\n",
       "<text text-anchor=\"start\" x=\"248\" y=\"-141.8\" font-family=\"Helvetica,sans-Serif\" font-size=\"14.00\">samples = 387</text>\n",
       "<text text-anchor=\"start\" x=\"203\" y=\"-126.8\" font-family=\"Helvetica,sans-Serif\" font-size=\"14.00\">value = [113, 0, 0, 26, 248, 0]</text>\n",
       "<text text-anchor=\"start\" x=\"252\" y=\"-111.8\" font-family=\"Helvetica,sans-Serif\" font-size=\"14.00\">class = unacc</text>\n",
       "</g>\n",
       "<!-- 1&#45;&gt;2 -->\n",
       "<g id=\"edge2\" class=\"edge\"><title>1&#45;&gt;2</title>\n",
       "<path fill=\"none\" stroke=\"black\" d=\"M427.417,-222.907C410.339,-213.016 391.955,-202.368 374.494,-192.254\"/>\n",
       "<polygon fill=\"black\" stroke=\"black\" points=\"375.867,-189.004 365.459,-187.021 372.358,-195.062 375.867,-189.004\"/>\n",
       "</g>\n",
       "<!-- 5 -->\n",
       "<g id=\"node6\" class=\"node\"><title>5</title>\n",
       "<path fill=\"#8139e5\" stroke=\"black\" d=\"M578.5,-179.5C578.5,-179.5 426.5,-179.5 426.5,-179.5 420.5,-179.5 414.5,-173.5 414.5,-167.5 414.5,-167.5 414.5,-123.5 414.5,-123.5 414.5,-117.5 420.5,-111.5 426.5,-111.5 426.5,-111.5 578.5,-111.5 578.5,-111.5 584.5,-111.5 590.5,-117.5 590.5,-123.5 590.5,-123.5 590.5,-167.5 590.5,-167.5 590.5,-173.5 584.5,-179.5 578.5,-179.5\"/>\n",
       "<text text-anchor=\"start\" x=\"473.5\" y=\"-164.3\" font-family=\"Helvetica,sans-Serif\" font-size=\"14.00\">gini = 0.0</text>\n",
       "<text text-anchor=\"start\" x=\"455\" y=\"-149.3\" font-family=\"Helvetica,sans-Serif\" font-size=\"14.00\">samples = 389</text>\n",
       "<text text-anchor=\"start\" x=\"422.5\" y=\"-134.3\" font-family=\"Helvetica,sans-Serif\" font-size=\"14.00\">value = [0, 0, 0, 0, 389, 0]</text>\n",
       "<text text-anchor=\"start\" x=\"459\" y=\"-119.3\" font-family=\"Helvetica,sans-Serif\" font-size=\"14.00\">class = unacc</text>\n",
       "</g>\n",
       "<!-- 1&#45;&gt;5 -->\n",
       "<g id=\"edge5\" class=\"edge\"><title>1&#45;&gt;5</title>\n",
       "<path fill=\"none\" stroke=\"black\" d=\"M499.235,-222.907C499.692,-212.204 500.187,-200.615 500.651,-189.776\"/>\n",
       "<polygon fill=\"black\" stroke=\"black\" points=\"504.152,-189.807 501.083,-179.667 497.159,-189.508 504.152,-189.807\"/>\n",
       "</g>\n",
       "<!-- 3 -->\n",
       "<g id=\"node4\" class=\"node\"><title>3</title>\n",
       "<path fill=\"#fefbf9\" stroke=\"black\" d=\"M173,-68C173,-68 12,-68 12,-68 6,-68 0,-62 0,-56 0,-56 0,-12 0,-12 0,-6 6,-0 12,-0 12,-0 173,-0 173,-0 179,-0 185,-6 185,-12 185,-12 185,-56 185,-56 185,-62 179,-68 173,-68\"/>\n",
       "<text text-anchor=\"start\" x=\"55\" y=\"-52.8\" font-family=\"Helvetica,sans-Serif\" font-size=\"14.00\">gini = 0.592</text>\n",
       "<text text-anchor=\"start\" x=\"45\" y=\"-37.8\" font-family=\"Helvetica,sans-Serif\" font-size=\"14.00\">samples = 126</text>\n",
       "<text text-anchor=\"start\" x=\"8\" y=\"-22.8\" font-family=\"Helvetica,sans-Serif\" font-size=\"14.00\">value = [57, 0, 0, 14, 55, 0]</text>\n",
       "<text text-anchor=\"start\" x=\"58\" y=\"-7.8\" font-family=\"Helvetica,sans-Serif\" font-size=\"14.00\">class = car</text>\n",
       "</g>\n",
       "<!-- 2&#45;&gt;3 -->\n",
       "<g id=\"edge3\" class=\"edge\"><title>2&#45;&gt;3</title>\n",
       "<path fill=\"none\" stroke=\"black\" d=\"M220.199,-103.882C201.387,-93.7346 181.286,-82.8922 162.731,-72.8832\"/>\n",
       "<polygon fill=\"black\" stroke=\"black\" points=\"164.221,-69.7104 153.758,-68.0433 160.898,-75.8713 164.221,-69.7104\"/>\n",
       "</g>\n",
       "<!-- 4 -->\n",
       "<g id=\"node5\" class=\"node\"><title>4</title>\n",
       "<path fill=\"#ab7bee\" stroke=\"black\" d=\"M384,-68C384,-68 215,-68 215,-68 209,-68 203,-62 203,-56 203,-56 203,-12 203,-12 203,-6 209,-0 215,-0 215,-0 384,-0 384,-0 390,-0 396,-6 396,-12 396,-12 396,-56 396,-56 396,-62 390,-68 384,-68\"/>\n",
       "<text text-anchor=\"start\" x=\"262\" y=\"-52.8\" font-family=\"Helvetica,sans-Serif\" font-size=\"14.00\">gini = 0.405</text>\n",
       "<text text-anchor=\"start\" x=\"252\" y=\"-37.8\" font-family=\"Helvetica,sans-Serif\" font-size=\"14.00\">samples = 261</text>\n",
       "<text text-anchor=\"start\" x=\"211\" y=\"-22.8\" font-family=\"Helvetica,sans-Serif\" font-size=\"14.00\">value = [56, 0, 0, 12, 193, 0]</text>\n",
       "<text text-anchor=\"start\" x=\"256\" y=\"-7.8\" font-family=\"Helvetica,sans-Serif\" font-size=\"14.00\">class = unacc</text>\n",
       "</g>\n",
       "<!-- 2&#45;&gt;4 -->\n",
       "<g id=\"edge4\" class=\"edge\"><title>2&#45;&gt;4</title>\n",
       "<path fill=\"none\" stroke=\"black\" d=\"M296.989,-103.726C297.289,-95.5175 297.606,-86.8595 297.909,-78.56\"/>\n",
       "<polygon fill=\"black\" stroke=\"black\" points=\"301.416,-78.4207 298.284,-68.2996 294.421,-78.1651 301.416,-78.4207\"/>\n",
       "</g>\n",
       "<!-- 7 -->\n",
       "<g id=\"node8\" class=\"node\"><title>7</title>\n",
       "<path fill=\"#be98f2\" stroke=\"black\" d=\"M800,-187C800,-187 631,-187 631,-187 625,-187 619,-181 619,-175 619,-175 619,-116 619,-116 619,-110 625,-104 631,-104 631,-104 800,-104 800,-104 806,-104 812,-110 812,-116 812,-116 812,-175 812,-175 812,-181 806,-187 800,-187\"/>\n",
       "<text text-anchor=\"start\" x=\"679\" y=\"-171.8\" font-family=\"Helvetica,sans-Serif\" font-size=\"14.00\">doors ≤ 1.5</text>\n",
       "<text text-anchor=\"start\" x=\"678\" y=\"-156.8\" font-family=\"Helvetica,sans-Serif\" font-size=\"14.00\">gini = 0.526</text>\n",
       "<text text-anchor=\"start\" x=\"668\" y=\"-141.8\" font-family=\"Helvetica,sans-Serif\" font-size=\"14.00\">samples = 248</text>\n",
       "<text text-anchor=\"start\" x=\"627\" y=\"-126.8\" font-family=\"Helvetica,sans-Serif\" font-size=\"14.00\">value = [61, 0, 0, 9, 158, 20]</text>\n",
       "<text text-anchor=\"start\" x=\"672\" y=\"-111.8\" font-family=\"Helvetica,sans-Serif\" font-size=\"14.00\">class = unacc</text>\n",
       "</g>\n",
       "<!-- 6&#45;&gt;7 -->\n",
       "<g id=\"edge7\" class=\"edge\"><title>6&#45;&gt;7</title>\n",
       "<path fill=\"none\" stroke=\"black\" d=\"M718.765,-222.907C718.408,-214.558 718.029,-205.671 717.659,-197.02\"/>\n",
       "<polygon fill=\"black\" stroke=\"black\" points=\"721.156,-196.862 717.232,-187.021 714.162,-197.161 721.156,-196.862\"/>\n",
       "</g>\n",
       "<!-- 10 -->\n",
       "<g id=\"node11\" class=\"node\"><title>10</title>\n",
       "<path fill=\"#f2c19d\" stroke=\"black\" d=\"M1011,-187C1011,-187 842,-187 842,-187 836,-187 830,-181 830,-175 830,-175 830,-116 830,-116 830,-110 836,-104 842,-104 842,-104 1011,-104 1011,-104 1017,-104 1023,-110 1023,-116 1023,-116 1023,-175 1023,-175 1023,-181 1017,-187 1011,-187\"/>\n",
       "<text text-anchor=\"start\" x=\"888\" y=\"-171.8\" font-family=\"Helvetica,sans-Serif\" font-size=\"14.00\">buying ≤ 2.5</text>\n",
       "<text text-anchor=\"start\" x=\"889\" y=\"-156.8\" font-family=\"Helvetica,sans-Serif\" font-size=\"14.00\">gini = 0.608</text>\n",
       "<text text-anchor=\"start\" x=\"879\" y=\"-141.8\" font-family=\"Helvetica,sans-Serif\" font-size=\"14.00\">samples = 135</text>\n",
       "<text text-anchor=\"start\" x=\"838\" y=\"-126.8\" font-family=\"Helvetica,sans-Serif\" font-size=\"14.00\">value = [78, 1, 1, 13, 22, 20]</text>\n",
       "<text text-anchor=\"start\" x=\"892\" y=\"-111.8\" font-family=\"Helvetica,sans-Serif\" font-size=\"14.00\">class = car</text>\n",
       "</g>\n",
       "<!-- 6&#45;&gt;10 -->\n",
       "<g id=\"edge10\" class=\"edge\"><title>6&#45;&gt;10</title>\n",
       "<path fill=\"none\" stroke=\"black\" d=\"M791.971,-222.907C809.547,-212.925 828.479,-202.172 846.431,-191.976\"/>\n",
       "<polygon fill=\"black\" stroke=\"black\" points=\"848.189,-195.003 855.156,-187.021 844.732,-188.916 848.189,-195.003\"/>\n",
       "</g>\n",
       "<!-- 8 -->\n",
       "<g id=\"node9\" class=\"node\"><title>8</title>\n",
       "<path fill=\"#f7d9c4\" stroke=\"black\" d=\"M602,-68C602,-68 441,-68 441,-68 435,-68 429,-62 429,-56 429,-56 429,-12 429,-12 429,-6 435,-0 441,-0 441,-0 602,-0 602,-0 608,-0 614,-6 614,-12 614,-12 614,-56 614,-56 614,-62 608,-68 602,-68\"/>\n",
       "<text text-anchor=\"start\" x=\"484\" y=\"-52.8\" font-family=\"Helvetica,sans-Serif\" font-size=\"14.00\">gini = 0.652</text>\n",
       "<text text-anchor=\"start\" x=\"474\" y=\"-37.8\" font-family=\"Helvetica,sans-Serif\" font-size=\"14.00\">samples = 124</text>\n",
       "<text text-anchor=\"start\" x=\"437\" y=\"-22.8\" font-family=\"Helvetica,sans-Serif\" font-size=\"14.00\">value = [61, 0, 0, 9, 34, 20]</text>\n",
       "<text text-anchor=\"start\" x=\"487\" y=\"-7.8\" font-family=\"Helvetica,sans-Serif\" font-size=\"14.00\">class = car</text>\n",
       "</g>\n",
       "<!-- 7&#45;&gt;8 -->\n",
       "<g id=\"edge8\" class=\"edge\"><title>7&#45;&gt;8</title>\n",
       "<path fill=\"none\" stroke=\"black\" d=\"M643.537,-103.882C625.723,-93.8269 606.699,-83.0892 589.101,-73.1563\"/>\n",
       "<polygon fill=\"black\" stroke=\"black\" points=\"590.471,-69.9108 580.042,-68.0433 587.031,-76.0068 590.471,-69.9108\"/>\n",
       "</g>\n",
       "<!-- 9 -->\n",
       "<g id=\"node10\" class=\"node\"><title>9</title>\n",
       "<path fill=\"#8139e5\" stroke=\"black\" d=\"M796.5,-68C796.5,-68 644.5,-68 644.5,-68 638.5,-68 632.5,-62 632.5,-56 632.5,-56 632.5,-12 632.5,-12 632.5,-6 638.5,-0 644.5,-0 644.5,-0 796.5,-0 796.5,-0 802.5,-0 808.5,-6 808.5,-12 808.5,-12 808.5,-56 808.5,-56 808.5,-62 802.5,-68 796.5,-68\"/>\n",
       "<text text-anchor=\"start\" x=\"691.5\" y=\"-52.8\" font-family=\"Helvetica,sans-Serif\" font-size=\"14.00\">gini = 0.0</text>\n",
       "<text text-anchor=\"start\" x=\"673\" y=\"-37.8\" font-family=\"Helvetica,sans-Serif\" font-size=\"14.00\">samples = 124</text>\n",
       "<text text-anchor=\"start\" x=\"640.5\" y=\"-22.8\" font-family=\"Helvetica,sans-Serif\" font-size=\"14.00\">value = [0, 0, 0, 0, 124, 0]</text>\n",
       "<text text-anchor=\"start\" x=\"677\" y=\"-7.8\" font-family=\"Helvetica,sans-Serif\" font-size=\"14.00\">class = unacc</text>\n",
       "</g>\n",
       "<!-- 7&#45;&gt;9 -->\n",
       "<g id=\"edge9\" class=\"edge\"><title>7&#45;&gt;9</title>\n",
       "<path fill=\"none\" stroke=\"black\" d=\"M717.362,-103.726C717.737,-95.5175 718.132,-86.8595 718.511,-78.56\"/>\n",
       "<polygon fill=\"black\" stroke=\"black\" points=\"722.02,-78.4489 718.979,-68.2996 715.027,-78.1295 722.02,-78.4489\"/>\n",
       "</g>\n",
       "<!-- 11 -->\n",
       "<g id=\"node12\" class=\"node\"><title>11</title>\n",
       "<path fill=\"#f2c19e\" stroke=\"black\" d=\"M998.5,-68C998.5,-68 846.5,-68 846.5,-68 840.5,-68 834.5,-62 834.5,-56 834.5,-56 834.5,-12 834.5,-12 834.5,-6 840.5,-0 846.5,-0 846.5,-0 998.5,-0 998.5,-0 1004.5,-0 1010.5,-6 1010.5,-12 1010.5,-12 1010.5,-56 1010.5,-56 1010.5,-62 1004.5,-68 998.5,-68\"/>\n",
       "<text text-anchor=\"start\" x=\"885\" y=\"-52.8\" font-family=\"Helvetica,sans-Serif\" font-size=\"14.00\">gini = 0.448</text>\n",
       "<text text-anchor=\"start\" x=\"879\" y=\"-37.8\" font-family=\"Helvetica,sans-Serif\" font-size=\"14.00\">samples = 65</text>\n",
       "<text text-anchor=\"start\" x=\"842.5\" y=\"-22.8\" font-family=\"Helvetica,sans-Serif\" font-size=\"14.00\">value = [43, 0, 0, 0, 22, 0]</text>\n",
       "<text text-anchor=\"start\" x=\"888\" y=\"-7.8\" font-family=\"Helvetica,sans-Serif\" font-size=\"14.00\">class = car</text>\n",
       "</g>\n",
       "<!-- 10&#45;&gt;11 -->\n",
       "<g id=\"edge11\" class=\"edge\"><title>10&#45;&gt;11</title>\n",
       "<path fill=\"none\" stroke=\"black\" d=\"M925.011,-103.726C924.711,-95.5175 924.394,-86.8595 924.091,-78.56\"/>\n",
       "<polygon fill=\"black\" stroke=\"black\" points=\"927.579,-78.1651 923.716,-68.2996 920.584,-78.4207 927.579,-78.1651\"/>\n",
       "</g>\n",
       "<!-- 12 -->\n",
       "<g id=\"node13\" class=\"node\"><title>12</title>\n",
       "<path fill=\"#f7d9c4\" stroke=\"black\" d=\"M1202,-68C1202,-68 1041,-68 1041,-68 1035,-68 1029,-62 1029,-56 1029,-56 1029,-12 1029,-12 1029,-6 1035,-0 1041,-0 1041,-0 1202,-0 1202,-0 1208,-0 1214,-6 1214,-12 1214,-12 1214,-56 1214,-56 1214,-62 1208,-68 1202,-68\"/>\n",
       "<text text-anchor=\"start\" x=\"1084\" y=\"-52.8\" font-family=\"Helvetica,sans-Serif\" font-size=\"14.00\">gini = 0.633</text>\n",
       "<text text-anchor=\"start\" x=\"1078\" y=\"-37.8\" font-family=\"Helvetica,sans-Serif\" font-size=\"14.00\">samples = 70</text>\n",
       "<text text-anchor=\"start\" x=\"1037\" y=\"-22.8\" font-family=\"Helvetica,sans-Serif\" font-size=\"14.00\">value = [35, 1, 1, 13, 0, 20]</text>\n",
       "<text text-anchor=\"start\" x=\"1087\" y=\"-7.8\" font-family=\"Helvetica,sans-Serif\" font-size=\"14.00\">class = car</text>\n",
       "</g>\n",
       "<!-- 10&#45;&gt;12 -->\n",
       "<g id=\"edge12\" class=\"edge\"><title>10&#45;&gt;12</title>\n",
       "<path fill=\"none\" stroke=\"black\" d=\"M998.834,-103.882C1016.74,-93.8269 1035.86,-83.0892 1053.55,-73.1563\"/>\n",
       "<polygon fill=\"black\" stroke=\"black\" points=\"1055.65,-75.9914 1062.66,-68.0433 1052.22,-69.8878 1055.65,-75.9914\"/>\n",
       "</g>\n",
       "</g>\n",
       "</svg>\n"
      ],
      "text/plain": [
       "<graphviz.sources.Source at 0x1430812ae50>"
      ]
     },
     "execution_count": 30,
     "metadata": {},
     "output_type": "execute_result"
    }
   ],
   "source": [
    "import graphviz \n",
    "dot_data = tree.export_graphviz(clf_gini, out_file=None, \n",
    "                              feature_names=X_train.columns,  \n",
    "                              class_names=y_train,  \n",
    "                              filled=True, rounded=True,  \n",
    "                              special_characters=True)\n",
    "\n",
    "graph = graphviz.Source(dot_data) \n",
    "\n",
    "graph "
   ]
  },
  {
   "cell_type": "code",
   "execution_count": 33,
   "id": "53aba226",
   "metadata": {
    "collapsed": true
   },
   "outputs": [
    {
     "data": {
      "image/svg+xml": [
       "<?xml version=\"1.0\" encoding=\"UTF-8\" standalone=\"no\"?>\n",
       "<!DOCTYPE svg PUBLIC \"-//W3C//DTD SVG 1.1//EN\"\n",
       " \"http://www.w3.org/Graphics/SVG/1.1/DTD/svg11.dtd\">\n",
       "<!-- Generated by graphviz version 2.38.0 (20140413.2041)\n",
       " -->\n",
       "<!-- Title: %3 Pages: 1 -->\n",
       "<svg width=\"62pt\" height=\"116pt\"\n",
       " viewBox=\"0.00 0.00 62.00 116.00\" xmlns=\"http://www.w3.org/2000/svg\" xmlns:xlink=\"http://www.w3.org/1999/xlink\">\n",
       "<g id=\"graph0\" class=\"graph\" transform=\"scale(1 1) rotate(0) translate(4 112)\">\n",
       "<title>%3</title>\n",
       "<polygon fill=\"white\" stroke=\"none\" points=\"-4,4 -4,-112 58,-112 58,4 -4,4\"/>\n",
       "<!-- 1 -->\n",
       "<g id=\"node1\" class=\"node\"><title>1</title>\n",
       "<ellipse fill=\"none\" stroke=\"black\" cx=\"27\" cy=\"-90\" rx=\"27\" ry=\"18\"/>\n",
       "<text text-anchor=\"middle\" x=\"27\" y=\"-86.3\" font-family=\"Times New Roman,serif\" font-size=\"14.00\">1</text>\n",
       "</g>\n",
       "<!-- 2 -->\n",
       "<g id=\"node2\" class=\"node\"><title>2</title>\n",
       "<ellipse fill=\"none\" stroke=\"black\" cx=\"27\" cy=\"-18\" rx=\"27\" ry=\"18\"/>\n",
       "<text text-anchor=\"middle\" x=\"27\" y=\"-14.3\" font-family=\"Times New Roman,serif\" font-size=\"14.00\">2</text>\n",
       "</g>\n",
       "<!-- 1&#45;&gt;2 -->\n",
       "<g id=\"edge1\" class=\"edge\"><title>1&#45;&gt;2</title>\n",
       "<path fill=\"none\" stroke=\"black\" d=\"M27,-71.6966C27,-63.9827 27,-54.7125 27,-46.1124\"/>\n",
       "<polygon fill=\"black\" stroke=\"black\" points=\"30.5001,-46.1043 27,-36.1043 23.5001,-46.1044 30.5001,-46.1043\"/>\n",
       "</g>\n",
       "</g>\n",
       "</svg>\n"
      ],
      "text/plain": [
       "<graphviz.graphs.Digraph at 0x14309199160>"
      ]
     },
     "execution_count": 33,
     "metadata": {},
     "output_type": "execute_result"
    }
   ],
   "source": []
  },
  {
   "cell_type": "code",
   "execution_count": null,
   "id": "d1201925",
   "metadata": {},
   "outputs": [],
   "source": []
  }
 ],
 "metadata": {
  "kernelspec": {
   "display_name": "Python 3",
   "language": "python",
   "name": "python3"
  },
  "language_info": {
   "codemirror_mode": {
    "name": "ipython",
    "version": 3
   },
   "file_extension": ".py",
   "mimetype": "text/x-python",
   "name": "python",
   "nbconvert_exporter": "python",
   "pygments_lexer": "ipython3",
   "version": "3.8.8"
  }
 },
 "nbformat": 4,
 "nbformat_minor": 5
}
