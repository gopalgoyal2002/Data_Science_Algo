{
 "cells": [
  {
   "cell_type": "code",
   "execution_count": 3,
   "metadata": {
    "_cell_guid": "b1076dfc-b9ad-4769-8c92-a6c4dae69d19",
    "_uuid": "8f2839f25d086af736a60e9eeb907d3b93b6e0e5",
    "execution": {
     "iopub.execute_input": "2022-03-19T06:24:52.435532Z",
     "iopub.status.busy": "2022-03-19T06:24:52.435198Z",
     "iopub.status.idle": "2022-03-19T06:24:52.44142Z",
     "shell.execute_reply": "2022-03-19T06:24:52.440784Z",
     "shell.execute_reply.started": "2022-03-19T06:24:52.435499Z"
    }
   },
   "outputs": [
    {
     "name": "stdout",
     "output_type": "stream",
     "text": [
      "Requirement already satisfied: torch in c:\\users\\gopal\\anaconda3\\lib\\site-packages (1.11.0)\n",
      "Requirement already satisfied: typing-extensions in c:\\users\\gopal\\anaconda3\\lib\\site-packages (from torch) (3.7.4.3)\n"
     ]
    }
   ],
   "source": [
    "!pip install torch"
   ]
  },
  {
   "cell_type": "code",
   "execution_count": 5,
   "metadata": {},
   "outputs": [],
   "source": [
    "# This Python 3 environment comes with many helpful analytics libraries installed\n",
    "# It is defined by the kaggle/python Docker image: https://github.com/kaggle/docker-python\n",
    "# For example, here's several helpful packages to load\n",
    "\n",
    "import numpy as np # linear algebra\n",
    "import pandas as pd # data processing, CSV file I/O (e.g. pd.read_csv)\n",
    "import torch\n",
    "import torch.nn as nn\n",
    "# Input data files are available in the read-only \"../input/\" directory\n",
    "# For example, running this (by clicking run or pressing Shift+Enter) will list all files under the input directory\n",
    "\n",
    "# You can write up to 20GB to the current directory (/kaggle/working/) that gets preserved as output when you create a version using \"Save & Run All\" \n",
    "# You can also write temporary files to /kaggle/temp/, but they won't be saved outside of the current session"
   ]
  },
  {
   "cell_type": "code",
   "execution_count": 6,
   "metadata": {
    "execution": {
     "iopub.status.busy": "2022-03-19T06:20:25.101119Z",
     "iopub.status.idle": "2022-03-19T06:20:25.101427Z",
     "shell.execute_reply": "2022-03-19T06:20:25.101282Z",
     "shell.execute_reply.started": "2022-03-19T06:20:25.101266Z"
    }
   },
   "outputs": [],
   "source": [
    "device = torch.device(\"cuda\" if torch.cuda.is_available() else \"cpu\")\n",
    "# from transformers import AlbertTokenizer, TFAlbertModel\n",
    "# tokenizer = AlbertTokenizer.from_pretrained('albert-xxlarge-v2')\n",
    "# model = TFAlbertModel.from_pretrained(\"albert-xxlarge-v2\")\n",
    "# text = \"Replace me by any text you'd like.\"\n",
    "# encoded_input = tokenizer(text, return_tensors='tf')\n",
    "# output = model(encoded_input)"
   ]
  },
  {
   "cell_type": "code",
   "execution_count": 7,
   "metadata": {
    "execution": {
     "iopub.execute_input": "2022-03-19T06:17:50.136003Z",
     "iopub.status.busy": "2022-03-19T06:17:50.135359Z",
     "iopub.status.idle": "2022-03-19T06:17:50.192613Z",
     "shell.execute_reply": "2022-03-19T06:17:50.191966Z",
     "shell.execute_reply.started": "2022-03-19T06:17:50.135969Z"
    }
   },
   "outputs": [],
   "source": [
    "train=pd.read_csv('train.csv')\n",
    "test=pd.read_csv('test.csv')\n",
    "sub=pd.read_csv('sample_submission.csv')"
   ]
  },
  {
   "cell_type": "code",
   "execution_count": 8,
   "metadata": {
    "execution": {
     "iopub.execute_input": "2022-03-19T06:17:50.69484Z",
     "iopub.status.busy": "2022-03-19T06:17:50.694338Z",
     "iopub.status.idle": "2022-03-19T06:17:50.698951Z",
     "shell.execute_reply": "2022-03-19T06:17:50.69806Z",
     "shell.execute_reply.started": "2022-03-19T06:17:50.694792Z"
    }
   },
   "outputs": [],
   "source": [
    "# encoded_input"
   ]
  },
  {
   "cell_type": "code",
   "execution_count": 9,
   "metadata": {
    "execution": {
     "iopub.execute_input": "2022-03-19T06:17:51.114385Z",
     "iopub.status.busy": "2022-03-19T06:17:51.114107Z",
     "iopub.status.idle": "2022-03-19T06:17:51.13759Z",
     "shell.execute_reply": "2022-03-19T06:17:51.136807Z",
     "shell.execute_reply.started": "2022-03-19T06:17:51.114355Z"
    }
   },
   "outputs": [
    {
     "data": {
      "text/html": [
       "<div>\n",
       "<style scoped>\n",
       "    .dataframe tbody tr th:only-of-type {\n",
       "        vertical-align: middle;\n",
       "    }\n",
       "\n",
       "    .dataframe tbody tr th {\n",
       "        vertical-align: top;\n",
       "    }\n",
       "\n",
       "    .dataframe thead th {\n",
       "        text-align: right;\n",
       "    }\n",
       "</style>\n",
       "<table border=\"1\" class=\"dataframe\">\n",
       "  <thead>\n",
       "    <tr style=\"text-align: right;\">\n",
       "      <th></th>\n",
       "      <th>id</th>\n",
       "      <th>url_legal</th>\n",
       "      <th>license</th>\n",
       "      <th>excerpt</th>\n",
       "      <th>target</th>\n",
       "      <th>standard_error</th>\n",
       "    </tr>\n",
       "  </thead>\n",
       "  <tbody>\n",
       "    <tr>\n",
       "      <th>0</th>\n",
       "      <td>c12129c31</td>\n",
       "      <td>NaN</td>\n",
       "      <td>NaN</td>\n",
       "      <td>When the young people returned to the ballroom...</td>\n",
       "      <td>-0.340259</td>\n",
       "      <td>0.464009</td>\n",
       "    </tr>\n",
       "    <tr>\n",
       "      <th>1</th>\n",
       "      <td>85aa80a4c</td>\n",
       "      <td>NaN</td>\n",
       "      <td>NaN</td>\n",
       "      <td>All through dinner time, Mrs. Fayre was somewh...</td>\n",
       "      <td>-0.315372</td>\n",
       "      <td>0.480805</td>\n",
       "    </tr>\n",
       "    <tr>\n",
       "      <th>2</th>\n",
       "      <td>b69ac6792</td>\n",
       "      <td>NaN</td>\n",
       "      <td>NaN</td>\n",
       "      <td>As Roger had predicted, the snow departed as q...</td>\n",
       "      <td>-0.580118</td>\n",
       "      <td>0.476676</td>\n",
       "    </tr>\n",
       "    <tr>\n",
       "      <th>3</th>\n",
       "      <td>dd1000b26</td>\n",
       "      <td>NaN</td>\n",
       "      <td>NaN</td>\n",
       "      <td>And outside before the palace a great garden w...</td>\n",
       "      <td>-1.054013</td>\n",
       "      <td>0.450007</td>\n",
       "    </tr>\n",
       "    <tr>\n",
       "      <th>4</th>\n",
       "      <td>37c1b32fb</td>\n",
       "      <td>NaN</td>\n",
       "      <td>NaN</td>\n",
       "      <td>Once upon a time there were Three Bears who li...</td>\n",
       "      <td>0.247197</td>\n",
       "      <td>0.510845</td>\n",
       "    </tr>\n",
       "  </tbody>\n",
       "</table>\n",
       "</div>"
      ],
      "text/plain": [
       "          id url_legal license  \\\n",
       "0  c12129c31       NaN     NaN   \n",
       "1  85aa80a4c       NaN     NaN   \n",
       "2  b69ac6792       NaN     NaN   \n",
       "3  dd1000b26       NaN     NaN   \n",
       "4  37c1b32fb       NaN     NaN   \n",
       "\n",
       "                                             excerpt    target  standard_error  \n",
       "0  When the young people returned to the ballroom... -0.340259        0.464009  \n",
       "1  All through dinner time, Mrs. Fayre was somewh... -0.315372        0.480805  \n",
       "2  As Roger had predicted, the snow departed as q... -0.580118        0.476676  \n",
       "3  And outside before the palace a great garden w... -1.054013        0.450007  \n",
       "4  Once upon a time there were Three Bears who li...  0.247197        0.510845  "
      ]
     },
     "execution_count": 9,
     "metadata": {},
     "output_type": "execute_result"
    }
   ],
   "source": [
    "train.head()"
   ]
  },
  {
   "cell_type": "code",
   "execution_count": 10,
   "metadata": {
    "execution": {
     "iopub.execute_input": "2022-03-19T06:31:53.477268Z",
     "iopub.status.busy": "2022-03-19T06:31:53.476893Z",
     "iopub.status.idle": "2022-03-19T06:32:04.220402Z",
     "shell.execute_reply": "2022-03-19T06:32:04.219174Z",
     "shell.execute_reply.started": "2022-03-19T06:31:53.477228Z"
    }
   },
   "outputs": [
    {
     "name": "stdout",
     "output_type": "stream",
     "text": [
      "Collecting tez\n",
      "  Using cached tez-0.2.0-py3-none-any.whl (16 kB)\n",
      "Requirement already satisfied: torch>=1.6.0 in c:\\users\\gopal\\anaconda3\\lib\\site-packages (from tez) (1.11.0)\n",
      "Requirement already satisfied: typing-extensions in c:\\users\\gopal\\anaconda3\\lib\\site-packages (from torch>=1.6.0->tez) (3.7.4.3)\n",
      "Installing collected packages: tez\n",
      "Successfully installed tez-0.2.0\n"
     ]
    }
   ],
   "source": [
    "!pip install tez"
   ]
  },
  {
   "cell_type": "code",
   "execution_count": 11,
   "metadata": {
    "execution": {
     "iopub.execute_input": "2022-03-19T06:21:03.752604Z",
     "iopub.status.busy": "2022-03-19T06:21:03.751491Z",
     "iopub.status.idle": "2022-03-19T06:21:03.779953Z",
     "shell.execute_reply": "2022-03-19T06:21:03.778601Z",
     "shell.execute_reply.started": "2022-03-19T06:21:03.752538Z"
    }
   },
   "outputs": [],
   "source": [
    "import sys\n",
    "sys.path.append(\"../input/tez-lib/\")\n",
    "import torch\n",
    "from sklearn import metrics\n",
    "import transformers\n",
    "import torch.nn as nn\n",
    "import numpy as np\n",
    "import tez\n",
    "import pandas as pd\n",
    "from tqdm import tqdm"
   ]
  },
  {
   "cell_type": "code",
   "execution_count": 12,
   "metadata": {
    "execution": {
     "iopub.status.busy": "2022-03-19T06:20:25.075041Z",
     "iopub.status.idle": "2022-03-19T06:20:25.075381Z",
     "shell.execute_reply": "2022-03-19T06:20:25.075226Z",
     "shell.execute_reply.started": "2022-03-19T06:20:25.075208Z"
    }
   },
   "outputs": [],
   "source": [
    "class AttentionHead(nn.Module):\n",
    "    def __init__(self, in_size: int = 768, hidden_size: int = 512) -> None:\n",
    "        super().__init__()\n",
    "        self.W = nn.Linear(in_size, hidden_size)\n",
    "        self.V = nn.Linear(hidden_size, 1)\n",
    "        self.dropout = nn.Dropout(0.3)\n",
    "\n",
    "    def forward(self, features):\n",
    "        att = torch.tanh(self.W(features))\n",
    "        score = self.V(att)\n",
    "        attention_weights = torch.softmax(score, dim=1)\n",
    "        context_vector = attention_weights * features\n",
    "        context_vector = torch.sum(context_vector, dim=1)\n",
    "        output = self.dropout(context_vector)\n",
    "        return output\n",
    "\n",
    "\n",
    "class CommonlitModel(tez.Model):\n",
    "    def __init__(self, model_name, num_train_steps, steps_per_epoch, learning_rate):\n",
    "        super().__init__()\n",
    "        self.learning_rate = learning_rate\n",
    "        self.steps_per_epoch = steps_per_epoch\n",
    "        self.model_name = model_name\n",
    "        self.num_train_steps = num_train_steps\n",
    "        self.step_scheduler_after = \"batch\"\n",
    "        hidden_dropout_prob: float = 0.0\n",
    "        layer_norm_eps: float = 1e-7\n",
    "        config = transformers.AutoConfig.from_pretrained(model_name)\n",
    "        config.update(\n",
    "            {\n",
    "                \"output_hidden_states\": True,\n",
    "                \"hidden_dropout_prob\": hidden_dropout_prob,\n",
    "                \"layer_norm_eps\": layer_norm_eps,\n",
    "            }\n",
    "        )\n",
    "        self.transformer = transformers.AutoModel.from_pretrained(model_name, config=config)\n",
    "        self.attention = AttentionHead(in_size=config.hidden_size, hidden_size=config.hidden_size)\n",
    "        self.regressor = nn.Linear(config.hidden_size * 2, 2)\n",
    "\n",
    "    def forward(self, ids1, mask1, ids2, mask2, targets=None):\n",
    "        output1 = self.transformer(ids1, mask1)\n",
    "        output2 = self.transformer(ids2, mask2)\n",
    "        output1 = self.attention(output1.last_hidden_state)\n",
    "        output2 = self.attention(output2.last_hidden_state)\n",
    "        output = torch.cat((output1, output2), dim=1)\n",
    "        output = self.regressor(output)\n",
    "        # output = self.regressor(output.pooler_output)\n",
    "        return output, 0, {}\n",
    "\n",
    "\n",
    "class CommonlitDataset:\n",
    "    def __init__(self, excerpts, target_dict, tokenizer, max_len, num_samples=None):\n",
    "        self.excerpts = excerpts\n",
    "        self.target_dict = target_dict\n",
    "        self.tokenizer = tokenizer\n",
    "        self.max_len = max_len\n",
    "        self.num_samples = num_samples\n",
    "\n",
    "    def __len__(self):\n",
    "        return len(self.excerpts)\n",
    "\n",
    "    def __getitem__(self, item):\n",
    "        text1 = str(self.excerpts[item][1])\n",
    "        text2 = str(self.excerpts[item][0])\n",
    "        target = [self.target_dict[text2], self.target_dict[text1]]\n",
    "        inputs1 = self.tokenizer(text1, max_length=self.max_len, padding=\"max_length\", truncation=True)\n",
    "        inputs2 = self.tokenizer(text2, max_length=self.max_len, padding=\"max_length\", truncation=True)\n",
    "        ids1 = inputs1[\"input_ids\"]\n",
    "        mask1 = inputs1[\"attention_mask\"]\n",
    "        ids2 = inputs2[\"input_ids\"]\n",
    "        mask2 = inputs2[\"attention_mask\"]\n",
    "        return {\n",
    "            \"ids1\": torch.tensor(ids1, dtype=torch.long),\n",
    "            \"mask1\": torch.tensor(mask1, dtype=torch.long),\n",
    "            \"ids2\": torch.tensor(ids2, dtype=torch.long),\n",
    "            \"mask2\": torch.tensor(mask2, dtype=torch.long),\n",
    "            \"targets\": torch.tensor(target, dtype=torch.float),\n",
    "        }"
   ]
  },
  {
   "cell_type": "code",
   "execution_count": 13,
   "metadata": {
    "execution": {
     "iopub.status.busy": "2022-03-19T06:20:25.077555Z",
     "iopub.status.idle": "2022-03-19T06:20:25.077889Z",
     "shell.execute_reply": "2022-03-19T06:20:25.077742Z",
     "shell.execute_reply.started": "2022-03-19T06:20:25.077724Z"
    }
   },
   "outputs": [],
   "source": [
    "max_len=256\n",
    "model_name=\"microsoft/deberta-large\""
   ]
  },
  {
   "cell_type": "code",
   "execution_count": 14,
   "metadata": {
    "execution": {
     "iopub.status.busy": "2022-03-19T06:20:25.079531Z",
     "iopub.status.idle": "2022-03-19T06:20:25.080074Z",
     "shell.execute_reply": "2022-03-19T06:20:25.079821Z",
     "shell.execute_reply.started": "2022-03-19T06:20:25.079794Z"
    }
   },
   "outputs": [
    {
     "data": {
      "text/plain": [
       "770"
      ]
     },
     "execution_count": 14,
     "metadata": {},
     "output_type": "execute_result"
    }
   ],
   "source": [
    "base_string=train.loc[train.target==0,\"excerpt\"].values[0]\n",
    "len(base_string)"
   ]
  },
  {
   "cell_type": "code",
   "execution_count": 15,
   "metadata": {
    "execution": {
     "iopub.status.busy": "2022-03-19T06:20:25.082539Z",
     "iopub.status.idle": "2022-03-19T06:20:25.083427Z",
     "shell.execute_reply": "2022-03-19T06:20:25.083148Z",
     "shell.execute_reply.started": "2022-03-19T06:20:25.083113Z"
    }
   },
   "outputs": [
    {
     "data": {
      "text/plain": [
       "2834"
      ]
     },
     "execution_count": 15,
     "metadata": {},
     "output_type": "execute_result"
    }
   ],
   "source": [
    "len(train)"
   ]
  },
  {
   "cell_type": "code",
   "execution_count": 16,
   "metadata": {
    "execution": {
     "iopub.status.busy": "2022-03-19T06:20:25.085034Z",
     "iopub.status.idle": "2022-03-19T06:20:25.085532Z",
     "shell.execute_reply": "2022-03-19T06:20:25.085289Z",
     "shell.execute_reply.started": "2022-03-19T06:20:25.085263Z"
    }
   },
   "outputs": [],
   "source": [
    "test[\"target\"]=0\n",
    "test_pairs = [(base_string, k) for k in test.excerpt.values.tolist()]\n",
    "target_dict = dict(zip(test.excerpt.values.tolist(), test.target.values.tolist()))\n",
    "target_dict[base_string] = 0"
   ]
  },
  {
   "cell_type": "code",
   "execution_count": null,
   "metadata": {
    "execution": {
     "iopub.status.busy": "2022-03-19T06:20:25.086767Z",
     "iopub.status.idle": "2022-03-19T06:20:25.087254Z",
     "shell.execute_reply": "2022-03-19T06:20:25.087016Z",
     "shell.execute_reply.started": "2022-03-19T06:20:25.086991Z"
    }
   },
   "outputs": [
    {
     "data": {
      "application/vnd.jupyter.widget-view+json": {
       "model_id": "18dfcca363aa40f38713b3517ac66e27",
       "version_major": 2,
       "version_minor": 0
      },
      "text/plain": [
       "Downloading:   0%|          | 0.00/878k [00:00<?, ?B/s]"
      ]
     },
     "metadata": {},
     "output_type": "display_data"
    },
    {
     "data": {
      "application/vnd.jupyter.widget-view+json": {
       "model_id": "8bafb85520404c748164c121f34d1e0b",
       "version_major": 2,
       "version_minor": 0
      },
      "text/plain": [
       "Downloading:   0%|          | 0.00/446k [00:00<?, ?B/s]"
      ]
     },
     "metadata": {},
     "output_type": "display_data"
    },
    {
     "data": {
      "application/vnd.jupyter.widget-view+json": {
       "model_id": "dfbd4968d75d4138bd1cbc6ac0d98e90",
       "version_major": 2,
       "version_minor": 0
      },
      "text/plain": [
       "Downloading:   0%|          | 0.00/52.0 [00:00<?, ?B/s]"
      ]
     },
     "metadata": {},
     "output_type": "display_data"
    },
    {
     "data": {
      "application/vnd.jupyter.widget-view+json": {
       "model_id": "787a31d33dc14bc69d4ad2af57acb94c",
       "version_major": 2,
       "version_minor": 0
      },
      "text/plain": [
       "Downloading:   0%|          | 0.00/474 [00:00<?, ?B/s]"
      ]
     },
     "metadata": {},
     "output_type": "display_data"
    },
    {
     "data": {
      "application/vnd.jupyter.widget-view+json": {
       "model_id": "09d744ce764e4ce0aafe249ef1d179d2",
       "version_major": 2,
       "version_minor": 0
      },
      "text/plain": [
       "Downloading:   0%|          | 0.00/533M [00:00<?, ?B/s]"
      ]
     },
     "metadata": {},
     "output_type": "display_data"
    }
   ],
   "source": [
    "from transformers import DebertaTokenizer, DebertaModel\n",
    "tokenizer = DebertaTokenizer.from_pretrained('microsoft/deberta-base')\n",
    "model = DebertaModel.from_pretrained('microsoft/deberta-base')"
   ]
  },
  {
   "cell_type": "code",
   "execution_count": null,
   "metadata": {
    "execution": {
     "iopub.status.busy": "2022-03-19T06:20:25.089174Z",
     "iopub.status.idle": "2022-03-19T06:20:25.089679Z",
     "shell.execute_reply": "2022-03-19T06:20:25.089412Z",
     "shell.execute_reply.started": "2022-03-19T06:20:25.089388Z"
    }
   },
   "outputs": [],
   "source": [
    "final_preds = []\n",
    "for _fold in range(5):\n",
    "    test_dataset = CommonlitDataset(\n",
    "        excerpts=test_pairs,\n",
    "        target_dict=target_dict,\n",
    "        tokenizer=tokenizer,\n",
    "        max_len=max_len,\n",
    "    )\n",
    "    model = CommonlitModel(\n",
    "        model_name='microsoft/deberta-base',\n",
    "        num_train_steps=1,\n",
    "        learning_rate=1,\n",
    "        steps_per_epoch=1,\n",
    "    )\n",
    "    temp_final_preds = []\n",
    "    for p in tqdm(model.predict(test_dataset, batch_size=64, n_jobs=-1)):\n",
    "        temp_preds = p[:, 1].tolist()\n",
    "        temp_final_preds.extend(temp_preds)\n",
    "\n",
    "    final_preds.append(temp_final_preds)"
   ]
  },
  {
   "cell_type": "code",
   "execution_count": null,
   "metadata": {
    "execution": {
     "iopub.status.busy": "2022-03-19T06:20:25.091768Z",
     "iopub.status.idle": "2022-03-19T06:20:25.092256Z",
     "shell.execute_reply": "2022-03-19T06:20:25.092008Z",
     "shell.execute_reply.started": "2022-03-19T06:20:25.091983Z"
    }
   },
   "outputs": [],
   "source": [
    "_preds = np.column_stack(final_preds)"
   ]
  },
  {
   "cell_type": "code",
   "execution_count": null,
   "metadata": {
    "execution": {
     "iopub.status.busy": "2022-03-19T06:20:25.093825Z",
     "iopub.status.idle": "2022-03-19T06:20:25.094149Z",
     "shell.execute_reply": "2022-03-19T06:20:25.093997Z",
     "shell.execute_reply.started": "2022-03-19T06:20:25.093981Z"
    }
   },
   "outputs": [],
   "source": [
    "_preds"
   ]
  },
  {
   "cell_type": "code",
   "execution_count": null,
   "metadata": {
    "execution": {
     "iopub.status.busy": "2022-03-19T06:20:25.095838Z",
     "iopub.status.idle": "2022-03-19T06:20:25.096169Z",
     "shell.execute_reply": "2022-03-19T06:20:25.096012Z",
     "shell.execute_reply.started": "2022-03-19T06:20:25.095995Z"
    }
   },
   "outputs": [],
   "source": [
    "_preds = np.mean(_preds, axis=1)"
   ]
  },
  {
   "cell_type": "code",
   "execution_count": null,
   "metadata": {
    "execution": {
     "iopub.status.busy": "2022-03-19T06:20:25.097697Z",
     "iopub.status.idle": "2022-03-19T06:20:25.098044Z",
     "shell.execute_reply": "2022-03-19T06:20:25.097889Z",
     "shell.execute_reply.started": "2022-03-19T06:20:25.097872Z"
    }
   },
   "outputs": [],
   "source": [
    "submission = pd.read_csv(\"../input/commonlitreadabilityprize/sample_submission.csv\")\n",
    "submission.target = _preds\n",
    "submission.to_csv(\"submission.csv\", index=False)"
   ]
  },
  {
   "cell_type": "code",
   "execution_count": null,
   "metadata": {
    "execution": {
     "iopub.status.busy": "2022-03-19T06:20:25.09959Z",
     "iopub.status.idle": "2022-03-19T06:20:25.099982Z",
     "shell.execute_reply": "2022-03-19T06:20:25.099814Z",
     "shell.execute_reply.started": "2022-03-19T06:20:25.099796Z"
    }
   },
   "outputs": [],
   "source": [
    "len(submission)"
   ]
  },
  {
   "cell_type": "code",
   "execution_count": null,
   "metadata": {},
   "outputs": [],
   "source": []
  },
  {
   "cell_type": "code",
   "execution_count": null,
   "metadata": {},
   "outputs": [],
   "source": []
  }
 ],
 "metadata": {
  "kernelspec": {
   "display_name": "Python 3",
   "language": "python",
   "name": "python3"
  },
  "language_info": {
   "codemirror_mode": {
    "name": "ipython",
    "version": 3
   },
   "file_extension": ".py",
   "mimetype": "text/x-python",
   "name": "python",
   "nbconvert_exporter": "python",
   "pygments_lexer": "ipython3",
   "version": "3.8.8"
  }
 },
 "nbformat": 4,
 "nbformat_minor": 4
}
